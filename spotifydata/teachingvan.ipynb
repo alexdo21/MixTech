{
 "cells": [
  {
   "cell_type": "code",
   "execution_count": 12,
   "metadata": {},
   "outputs": [
    {
     "name": "stdout",
     "output_type": "stream",
     "text": [
      "deque([2, 3])\n"
     ]
    }
   ],
   "source": [
    "array = []\n",
    "stack = []\n",
    "\n",
    "from collections import deque\n",
    "queue = deque()\n",
    "\n",
    "queue.append(1)\n",
    "queue.append(2)\n",
    "queue.append(3)\n",
    "\n",
    "queue.popleft()\n",
    "\n",
    "print(queue)\n",
    "\n",
    "# stack.append(1)\n",
    "# stack.append(2)\n",
    "# stack.append(3)\n",
    "\n",
    "#stack: pop(), peek()\n",
    "#queue: enqueue(), dequeue()\n",
    "\n",
    "# print(stack[-1])\n",
    "# print(stack)\n"
   ]
  },
  {
   "cell_type": "code",
   "execution_count": 27,
   "metadata": {},
   "outputs": [
    {
     "name": "stdout",
     "output_type": "stream",
     "text": [
      "7\n",
      "10\n",
      "11\n",
      "9\n",
      "4\n",
      "5\n",
      "1\n"
     ]
    }
   ],
   "source": [
    "class TreeNode:\n",
    "    def __init__(self, val):\n",
    "        self.val = val\n",
    "        self.left = None\n",
    "        self.right = None\n",
    "        \n",
    "        \n",
    "\n",
    "def dfs(root):\n",
    "    return dfs_helper(root)\n",
    "\n",
    "def dfs_helper(node):\n",
    "    if node is None:\n",
    "        return\n",
    "    \n",
    "    # in-order traversal left visit right\n",
    "    dfs_helper(node.left)  # L\n",
    "    print(node.val)        # V\n",
    "    dfs_helper(node.right) # R\n",
    "    \n",
    "\n",
    "def dfs_iterative(root):\n",
    "    s = []\n",
    "    s.append(root)\n",
    "    \n",
    "    while len(s) > 0:\n",
    "        node = s.pop()\n",
    "        children = [node.right, node.left]\n",
    "        \n",
    "        for c in children:\n",
    "            if c is not None:\n",
    "                s.append(c)\n",
    "        print(node.val)\n",
    "        \n",
    "\n",
    "def bfs(root):\n",
    "    pass   \n",
    "\n",
    "a = TreeNode(7)\n",
    "b = TreeNode(4)\n",
    "c = TreeNode(10)\n",
    "d = TreeNode(1)\n",
    "e = TreeNode(5)\n",
    "f = TreeNode(9)\n",
    "g = TreeNode(11)\n",
    "\n",
    "a.left, a.right = b, c\n",
    "b.left, b.right = d, e\n",
    "c.left, c.right = f, g\n",
    "\n",
    "dfs_iterative(a)"
   ]
  },
  {
   "cell_type": "code",
   "execution_count": null,
   "metadata": {},
   "outputs": [],
   "source": []
  },
  {
   "cell_type": "code",
   "execution_count": null,
   "metadata": {},
   "outputs": [],
   "source": []
  }
 ],
 "metadata": {
  "kernelspec": {
   "display_name": "Python 3",
   "language": "python",
   "name": "python3"
  },
  "language_info": {
   "codemirror_mode": {
    "name": "ipython",
    "version": 3
   },
   "file_extension": ".py",
   "mimetype": "text/x-python",
   "name": "python",
   "nbconvert_exporter": "python",
   "pygments_lexer": "ipython3",
   "version": "3.6.8"
  }
 },
 "nbformat": 4,
 "nbformat_minor": 2
}
